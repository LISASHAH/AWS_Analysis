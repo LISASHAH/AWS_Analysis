{
  "nbformat": 4,
  "nbformat_minor": 0,
  "metadata": {
    "colab": {
      "name": "ChallengeDataset2.ipynb",
      "provenance": [],
      "collapsed_sections": []
    },
    "kernelspec": {
      "name": "python3",
      "display_name": "Python 3"
    }
  },
  "cells": [
    {
      "cell_type": "code",
      "metadata": {
        "id": "rZPCNiOmDv7d",
        "colab_type": "code",
        "colab": {}
      },
      "source": [
        "# Install Java, Spark, and Findspark\n",
        "!apt-get install openjdk-8-jdk-headless -qq > /dev/null\n",
        "!wget -q http://www-us.apache.org/dist/spark/spark-2.4.5/spark-2.4.5-bin-hadoop2.7.tgz\n",
        "!tar xf spark-2.4.5-bin-hadoop2.7.tgz\n",
        "!pip install -q findspark\n",
        "\n",
        "# Set Environment Variables\n",
        "import os\n",
        "os.environ[\"JAVA_HOME\"] = \"/usr/lib/jvm/java-8-openjdk-amd64\"\n",
        "os.environ[\"SPARK_HOME\"] = \"/content/spark-2.4.5-bin-hadoop2.7\"\n",
        "\n",
        "# Start a SparkSession\n",
        "import findspark\n",
        "findspark.init()\n",
        "import pyspark"
      ],
      "execution_count": 0,
      "outputs": []
    },
    {
      "cell_type": "code",
      "metadata": {
        "id": "nX4b3Slh6nZQ",
        "colab_type": "code",
        "outputId": "6b3cc658-6699-4dda-b3a2-f90b2727e0bf",
        "colab": {
          "base_uri": "https://localhost:8080/",
          "height": 243
        }
      },
      "source": [
        "!pip install -q findspark\n",
        "!pip install pyspark\n",
        "!wget https://jdbc.postgresql.org/download/postgresql-42.2.9.jar"
      ],
      "execution_count": 2,
      "outputs": [
        {
          "output_type": "stream",
          "text": [
            "Requirement already satisfied: pyspark in /usr/local/lib/python3.6/dist-packages (2.4.5)\n",
            "Requirement already satisfied: py4j==0.10.7 in /usr/local/lib/python3.6/dist-packages (from pyspark) (0.10.7)\n",
            "--2020-03-15 19:38:10--  https://jdbc.postgresql.org/download/postgresql-42.2.9.jar\n",
            "Resolving jdbc.postgresql.org (jdbc.postgresql.org)... 72.32.157.228, 2001:4800:3e1:1::228\n",
            "Connecting to jdbc.postgresql.org (jdbc.postgresql.org)|72.32.157.228|:443... connected.\n",
            "HTTP request sent, awaiting response... 200 OK\n",
            "Length: 914037 (893K) [application/java-archive]\n",
            "Saving to: ‘postgresql-42.2.9.jar.2’\n",
            "\n",
            "postgresql-42.2.9.j 100%[===================>] 892.61K  4.79MB/s    in 0.2s    \n",
            "\n",
            "2020-03-15 19:38:11 (4.79 MB/s) - ‘postgresql-42.2.9.jar.2’ saved [914037/914037]\n",
            "\n"
          ],
          "name": "stdout"
        }
      ]
    },
    {
      "cell_type": "code",
      "metadata": {
        "id": "RDQ_7nQ67FYp",
        "colab_type": "code",
        "colab": {}
      },
      "source": [
        "from pyspark import SparkFiles\n",
        "from pyspark.sql import SparkSession\n",
        "spark = SparkSession.builder.appName(\"ChallengeExample\").config(\"spark.driver.extraClassPath\",\"/content/postgresql-42.2.9.jar\").getOrCreate()"
      ],
      "execution_count": 0,
      "outputs": []
    },
    {
      "cell_type": "code",
      "metadata": {
        "id": "POZWu_qJ8uyk",
        "colab_type": "code",
        "colab": {}
      },
      "source": [
        "bucketUrl = \"https://s3.amazonaws.com/amazon-reviews-pds/tsv/amazon_reviews_us_Home_Improvement_v1_00.tsv.gz\""
      ],
      "execution_count": 0,
      "outputs": []
    },
    {
      "cell_type": "code",
      "metadata": {
        "id": "4YCTq_zt8qXU",
        "colab_type": "code",
        "colab": {}
      },
      "source": [
        "spark.sparkContext.addFile(bucketUrl)"
      ],
      "execution_count": 0,
      "outputs": []
    },
    {
      "cell_type": "code",
      "metadata": {
        "id": "ARontYJe82j_",
        "colab_type": "code",
        "colab": {}
      },
      "source": [
        "#Read into dataframe\n",
        "sparkDF = spark.read.csv(SparkFiles.get(\"amazon_reviews_us_Home_Improvement_v1_00.tsv.gz\"),sep=\"\\t\", header=True, inferSchema=True)"
      ],
      "execution_count": 0,
      "outputs": []
    },
    {
      "cell_type": "code",
      "metadata": {
        "id": "dWuLZ4219jf-",
        "colab_type": "code",
        "outputId": "4def6b0d-240e-49b3-e200-16af0b19df6c",
        "colab": {
          "base_uri": "https://localhost:8080/",
          "height": 488
        }
      },
      "source": [
        "sparkDF.show()"
      ],
      "execution_count": 7,
      "outputs": [
        {
          "output_type": "stream",
          "text": [
            "+-----------+-----------+--------------+----------+--------------+--------------------+----------------+-----------+-------------+-----------+----+-----------------+--------------------+--------------------+-------------------+\n",
            "|marketplace|customer_id|     review_id|product_id|product_parent|       product_title|product_category|star_rating|helpful_votes|total_votes|vine|verified_purchase|     review_headline|         review_body|        review_date|\n",
            "+-----------+-----------+--------------+----------+--------------+--------------------+----------------+-----------+-------------+-----------+----+-----------------+--------------------+--------------------+-------------------+\n",
            "|         US|   48881148|R215C9BDXTDQOW|B00FR4YQYK|     381800308|SadoTech Model C ...|Home Improvement|          4|            0|          0|   N|                Y|          Four Stars|        good product|2015-08-31 00:00:00|\n",
            "|         US|   47882936|R1DTPUV1J57YHA|B00439MYYE|     921341748|iSpring T32M 3.2 ...|Home Improvement|          5|            0|          0|   N|                Y|Good price, quick...|Good price, quick...|2015-08-31 00:00:00|\n",
            "|         US|   44435471| RFAZK5EWKJWOU|B00002N762|      56053291|Schlage F10CS V E...|Home Improvement|          5|            0|          0|   N|                Y|          Five Stars|       Excellent...!|2015-08-31 00:00:00|\n",
            "|         US|   28377689|R2XT8X0O0WS1AL|B000QFCP1G|     595928517|Citri-Strip QCG73...|Home Improvement|          5|            0|          0|   N|                Y|Although *slightl...|Although *slightl...|2015-08-31 00:00:00|\n",
            "|         US|   50134766|R14GRNANKO2Y2J|B00WRCRKOI|     417053744|SleekLighting Bul...|Home Improvement|          5|            0|          0|   N|                Y|      Great Adapters|These adapters ar...|2015-08-31 00:00:00|\n",
            "|         US|   14066511|R2BLF9VYL24LCQ|B00NIH88EW|     275395071|VDOMUS&reg;Exquis...|Home Improvement|          5|            1|          1|   N|                Y|                nice|awesome and great...|2015-08-31 00:00:00|\n",
            "|         US|   15211046|R1GI9UW5KJ671O|B005B9CI96|     856617815|Frigidaire 316075...|Home Improvement|          5|            0|          0|   N|                Y|          Five Stars|Perfect. Exactly ...|2015-08-31 00:00:00|\n",
            "|         US|   14862498|R2H5CEJN863M86|B008L0OMWI|     125102494|Anyray® 5-Bulbs 7...|Home Improvement|          5|            0|          1|   N|                Y|So far working gr...|So far working gr...|2015-08-31 00:00:00|\n",
            "|         US|   23617292| R5PPDHFOZ3SMU|B00P9FTC6O|     523110842|Cambridge 100 pcs...|Home Improvement|          5|            0|          0|   N|                Y|           Ties tie.|Not much to say a...|2015-08-31 00:00:00|\n",
            "|         US|   35820485| RE1L9IENKJJ7Y|B00K6BQEHQ|     797306964|EUBUY Silver Tone...|Home Improvement|          1|            0|          0|   N|                Y|             GARBAGE|       crap quality.|2015-08-31 00:00:00|\n",
            "|         US|   47162350|R3CZ0990QC2Z0H|B008BYQCWM|     865874404|Legend 809125 Leg...|Home Improvement|          5|            0|          0|   N|                Y|          Five Stars|  Good. As expected.|2015-08-31 00:00:00|\n",
            "|         US|   31884789|R3UMMD2IO29QSP|B003BLHTOU|     183592595|Forearm Forklift ...|Home Improvement|          5|            0|          0|   N|                Y|           It works!|My husband and I ...|2015-08-31 00:00:00|\n",
            "|         US|   43835770| R541LE5J3OJH2|B0065I114K|     185006358|Newer Technology ...|Home Improvement|          5|            0|          0|   N|                Y|          Five Stars|     works perfectly|2015-08-31 00:00:00|\n",
            "|         US|   26212294|R10KD9FIE6Y1AS|B00J9XB6BQ|      53423207|Rok Hardware 25 P...|Home Improvement|          5|            0|          0|   N|                Y|Banging cabinet d...|Banging cabinet d...|2015-08-31 00:00:00|\n",
            "|         US|   17876704|R1YT5YG0QG5DCG|B00K36NJ0E|     593464633|Drift Light Using...|Home Improvement|          5|            0|          0|   N|                Y|Great product for...|Great product for...|2015-08-31 00:00:00|\n",
            "|         US|   22813225|R207LXJWL40V1S|B000ZIEOHW|     833911812|Troy DPH11 Profes...|Home Improvement|          4|            0|          0|   N|                Y|GETTING THE JOB D...|Drywalling our 18...|2015-08-31 00:00:00|\n",
            "|         US|   25448576| RIDP0ZD7WT9DE|B0009YDHKC|     852173443|Wright Products V...|Home Improvement|          5|            0|          0|   N|                Y|          Five Stars|exact replacement...|2015-08-31 00:00:00|\n",
            "|         US|   19754503|R2XJSNZ9219U1Z|B00LBGVLS2|     929968058|LiftMaster Garage...|Home Improvement|          5|            0|          0|   N|                Y|Easy to program g...|Works as advertis...|2015-08-31 00:00:00|\n",
            "|         US|   17767084|R2M9F1FVVDOGFL|B00002N5DY|     830214712|Heath Zenith SL-5...|Home Improvement|          5|            0|          0|   N|                Y|     easy to install|Working well the ...|2015-08-31 00:00:00|\n",
            "|         US|   48001709|R1QTOSE2BHU2LJ|B000BQOX88|     498022954|Intermatic T101 2...|Home Improvement|          3|            1|          2|   N|                Y|Kind of disappoin...|I connected the r...|2015-08-31 00:00:00|\n",
            "+-----------+-----------+--------------+----------+--------------+--------------------+----------------+-----------+-------------+-----------+----+-----------------+--------------------+--------------------+-------------------+\n",
            "only showing top 20 rows\n",
            "\n"
          ],
          "name": "stdout"
        }
      ]
    },
    {
      "cell_type": "code",
      "metadata": {
        "id": "chqMZUU0zG3-",
        "colab_type": "code",
        "outputId": "52965a36-faed-4996-82d0-a4ba7a83d0dd",
        "colab": {
          "base_uri": "https://localhost:8080/",
          "height": 35
        }
      },
      "source": [
        "sparkDF.count()"
      ],
      "execution_count": 8,
      "outputs": [
        {
          "output_type": "execute_result",
          "data": {
            "text/plain": [
              "2634781"
            ]
          },
          "metadata": {
            "tags": []
          },
          "execution_count": 8
        }
      ]
    },
    {
      "cell_type": "code",
      "metadata": {
        "id": "jHuw-2371fPk",
        "colab_type": "code",
        "outputId": "dac27d3d-7b77-4709-9297-3ede744c9730",
        "colab": {
          "base_uri": "https://localhost:8080/",
          "height": 35
        }
      },
      "source": [
        "#Remove Duplicates\n",
        "removeDupliDf = sparkDF.distinct()\n",
        "removeDupliDf.count()"
      ],
      "execution_count": 9,
      "outputs": [
        {
          "output_type": "execute_result",
          "data": {
            "text/plain": [
              "2634781"
            ]
          },
          "metadata": {
            "tags": []
          },
          "execution_count": 9
        }
      ]
    },
    {
      "cell_type": "code",
      "metadata": {
        "id": "YaKrGcW-K3cB",
        "colab_type": "code",
        "outputId": "251d6126-64f0-4da3-af1f-e362fdadc96e",
        "colab": {
          "base_uri": "https://localhost:8080/",
          "height": 488
        }
      },
      "source": [
        "#Drop duplicates\n",
        "dropna_df =  removeDupliDf.dropna()\n",
        "dropna_df.show()"
      ],
      "execution_count": 10,
      "outputs": [
        {
          "output_type": "stream",
          "text": [
            "+-----------+-----------+--------------+----------+--------------+--------------------+----------------+-----------+-------------+-----------+----+-----------------+--------------------+--------------------+-------------------+\n",
            "|marketplace|customer_id|     review_id|product_id|product_parent|       product_title|product_category|star_rating|helpful_votes|total_votes|vine|verified_purchase|     review_headline|         review_body|        review_date|\n",
            "+-----------+-----------+--------------+----------+--------------+--------------------+----------------+-----------+-------------+-----------+----+-----------------+--------------------+--------------------+-------------------+\n",
            "|         US|   11701583|R100FAA6WE6G1N|B0018P1RTE|     570747356|Hardware House Be...|Home Improvement|          5|            0|          0|   N|                Y|           Beautiful|I purchased 2 of ...|2014-04-23 00:00:00|\n",
            "|         US|   48172200|R100H3FSUUYEHI|B000XQ02PO|     749047588|Porcelain Medium ...|Home Improvement|          1|            1|          2|   N|                Y|I needed a socket...|I needed a socket...|2014-08-30 00:00:00|\n",
            "|         US|   32413940|R101HU3WNW0DRD|B000TKFQF0|     454451164|Honeywell Home/Bl...|Home Improvement|          5|            0|          0|   N|                Y|Really good idea....|Really good idea....|2015-01-12 00:00:00|\n",
            "|         US|   38280311|R101OHILN612XM|B001RQG6Z4|     102032890|Hunter Studio 52\"...|Home Improvement|          5|            0|          0|   N|                Y|Love the Hunter S...|Fans are installe...|2013-04-23 00:00:00|\n",
            "|         US|   21691058|R102JSUMJRSJNO|B001JJBZCS|     977926361|LIGHT IT by Fulcr...|Home Improvement|          5|            0|          0|   N|                Y|        Good Product|I needed somethin...|2013-08-27 00:00:00|\n",
            "|         US|   18740395|R102KJUN317SOM|B005HFAYAE|     596411838|GTMax Solar Drago...|Home Improvement|          3|            0|          0|   N|                Y|     bad experience.|When I purchased ...|2013-11-16 00:00:00|\n",
            "|         US|     345903|R102UQMK5EYVXM|B004TC4KDS|     491774474|LiteFuze Mosaic G...|Home Improvement|          5|            0|          0|   N|                Y|  I love this light!|soooooo bright an...|2015-06-28 00:00:00|\n",
            "|         US|   27810037|R1037Q4GJU4KY9|B004GZRL70|      20882398|GINSEY CLASSIQUE ...|Home Improvement|          5|            0|          0|   N|                Y|           Soft seat|This is the worst...|2013-04-22 00:00:00|\n",
            "|         US|   29744862|R104DAYVHSJ8JF|B003VV03KC|     931547777|Horseshoe Stall D...|Home Improvement|          1|            0|          0|   N|                N|Did not receive w...|The item order as...|2011-06-06 00:00:00|\n",
            "|         US|   48218009|R104ID9X5580HS|B0000DI241|     507449303|Lutron Electronic...|Home Improvement|          2|            0|          0|   N|                Y|I LIKE THE LITTLE...|I LIKE THE LITTLE...|2014-10-02 00:00:00|\n",
            "|         US|   30286474|R104TA2RVUL4OL|B000FKBSKQ|     692666747|Stanley Hardware ...|Home Improvement|          3|            3|          3|   N|                Y|                Okay|Hollowed out in t...|2015-01-23 00:00:00|\n",
            "|         US|   35064279|R105ERN1G751JR|B003Z4JJX2|     213702516|Kidde KN-COSMXTR-...|Home Improvement|          4|            0|          0|   N|                Y|Doesn't annoy the...|Could be louder.....|2013-02-18 00:00:00|\n",
            "|         US|    4743387|R105JPZ6QMDPNX|B005G8BODI|     761407258|Uni-3d Bathroom K...|Home Improvement|          5|            0|          0|   N|                Y|Looks great and s...|Looks great and s...|2014-09-04 00:00:00|\n",
            "|         US|   41432367|R1072UE0Y1EPAD|B002LZUE76|     180704113|WBM Himalayan Glo...|Home Improvement|          4|            0|          0|   N|                Y|Poor Packaging fo...|Packaging left a ...|2015-01-07 00:00:00|\n",
            "|         US|   52650373|R1073E8XVB4F3B|B000VZEMWG|     704205485|Sierra Thermostat...|Home Improvement|          1|            2|          2|   N|                Y|        DON'T DO IT!|This toy is so ch...|2009-12-26 00:00:00|\n",
            "|         US|   51325103|R107H6PN1AMG3X|B002N4IN0U|      41356734|  The Good Nite Lite|Home Improvement|          1|            0|          2|   N|                Y|  Remains to be seen|We spent most of ...|2013-12-26 00:00:00|\n",
            "|         US|   37758365|R10859E3UJ6OAL|B008HZI5BQ|     487258278|Hot Music Wireles...|Home Improvement|          5|            1|          1|   N|                Y|Very happy with u...|I live on the sec...|2013-08-31 00:00:00|\n",
            "|         US|   38011336|R108DV3KIHBF87|B002DR60KM|     706788325|Westinghouse 0324...|Home Improvement|          5|            2|          2|   N|                Y|Perfect for my an...|The small size of...|2013-05-10 00:00:00|\n",
            "|         US|   27553217|R108LFULNR47KM|B002ONB4AG|     916021169|Master Lock 7142D...|Home Improvement|          5|            0|          0|   N|                Y|        Lock Maestro|I carefully revie...|2012-03-03 00:00:00|\n",
            "|         US|    9877997|R108THAUNSYMNZ|B00E1AQED2|     413461819|Little Giant Ladd...|Home Improvement|          3|            0|          0|   N|                Y|Sturdy but cumber...|This ladder is de...|2014-12-30 00:00:00|\n",
            "+-----------+-----------+--------------+----------+--------------+--------------------+----------------+-----------+-------------+-----------+----+-----------------+--------------------+--------------------+-------------------+\n",
            "only showing top 20 rows\n",
            "\n"
          ],
          "name": "stdout"
        }
      ]
    },
    {
      "cell_type": "code",
      "metadata": {
        "id": "O-j6CZ82PKNW",
        "colab_type": "code",
        "outputId": "aedc698e-5959-44da-a109-a85f89345a6f",
        "colab": {
          "base_uri": "https://localhost:8080/",
          "height": 468
        }
      },
      "source": [
        "review_id_table  = dropna_df.select(\"review_id\",\"customer_id\",\"product_id\",\"product_parent\",\"review_date\")\n",
        "review_id_table = review_id_table.distinct()\n",
        "review_id_table.show()"
      ],
      "execution_count": 11,
      "outputs": [
        {
          "output_type": "stream",
          "text": [
            "+--------------+-----------+----------+--------------+-------------------+\n",
            "|     review_id|customer_id|product_id|product_parent|        review_date|\n",
            "+--------------+-----------+----------+--------------+-------------------+\n",
            "|R10EMQ669R1OW7|   31988888|B00JMXK0ZG|     369223727|2015-01-30 00:00:00|\n",
            "|R10L5G41J5P1L9|   44128995|B002BA5VVA|     890071563|2010-04-30 00:00:00|\n",
            "|R14LXTZ8EVXBNC|   14732814|B00L595FA0|     356117024|2014-12-28 00:00:00|\n",
            "|R1AK12POOU7J7P|   14202343|B007M48PH2|     932684268|2013-10-28 00:00:00|\n",
            "|R1BC3SGL2S4L1R|    4370855|B008DI5XRQ|     538890034|2014-06-06 00:00:00|\n",
            "|R1EJKIPHJCUIAQ|   10655988|B00BJAD4CQ|     339677559|2015-07-14 00:00:00|\n",
            "|R1G1IUSIB5R1QN|   13219423|B002P4O6QI|     337284137|2011-06-25 00:00:00|\n",
            "|R1GORSQRAS5RUF|   26720035|B00IJHIF30|     359773806|2014-09-01 00:00:00|\n",
            "|R1GSSOUTKG7AG6|   32777471|B00N9WCXWO|     188913262|2015-03-18 00:00:00|\n",
            "|R1GYPKRXGPGVH3|   12474469|B007RKVT4C|      84351799|2013-02-24 00:00:00|\n",
            "|R1H7GFKJN6JN2N|   37160447|B0039UT73E|     178197417|2012-11-15 00:00:00|\n",
            "|R1LSKRQ82CD424|   30217651|B004F7AELO|     130142975|2014-03-11 00:00:00|\n",
            "|R1TWW0LUZKBK56|   23440269|B005SRECEU|     247177265|2014-05-29 00:00:00|\n",
            "|R1ZM0YA7ROFZZV|   31667097|B000Y45P70|     369970739|2015-07-18 00:00:00|\n",
            "|R20QXA2Z3L7J7J|   20194090|B000LV9V9Y|     654057499|2011-01-02 00:00:00|\n",
            "|R21KGE6MDHUEDR|    5967352|B008133KB4|     854969089|2014-01-05 00:00:00|\n",
            "|R25FB2N4JEDP83|   27003702|B00083J8U2|      47705094|2015-07-27 00:00:00|\n",
            "|R2F6GYKX0NH9ZW|   49031951|B0006VVN1I|     805498531|2015-06-29 00:00:00|\n",
            "|R2FYPHNPBZ100P|   38191312|B00EU8LMRS|     358965685|2014-08-10 00:00:00|\n",
            "|R2FZ1FIT9V5UG2|   46215137|B00121UVU0|     505396862|2015-05-26 00:00:00|\n",
            "+--------------+-----------+----------+--------------+-------------------+\n",
            "only showing top 20 rows\n",
            "\n"
          ],
          "name": "stdout"
        }
      ]
    },
    {
      "cell_type": "code",
      "metadata": {
        "id": "LcTJ9of9PeY0",
        "colab_type": "code",
        "outputId": "10efd3fa-cfb2-4ee6-d4d5-96449f449cb2",
        "colab": {
          "base_uri": "https://localhost:8080/",
          "height": 468
        }
      },
      "source": [
        "products_df = dropna_df.select(\"product_id\",\"product_title\")\n",
        "products_df=products_df.distinct()\n",
        "products_df.show()"
      ],
      "execution_count": 12,
      "outputs": [
        {
          "output_type": "stream",
          "text": [
            "+----------+--------------------+\n",
            "|product_id|       product_title|\n",
            "+----------+--------------------+\n",
            "|B0006VVN1I|Culligan Certifie...|\n",
            "|B00011KLH0|Frost King G9 Nai...|\n",
            "|B003BIGD8Q|GE WB44X200 Bake ...|\n",
            "|B00D82R8WU|Moen G2245622 220...|\n",
            "|B0019K914Q|Rust-Oleum 69384 ...|\n",
            "|B000GKZ2RU|RoomMates WT1068S...|\n",
            "|B005WQIDHY|Woods 50007 Indoo...|\n",
            "|B00IEDHJFE|LG LT120F Replace...|\n",
            "|B00SM7MCO0|Kanthal A1 28 Gau...|\n",
            "|B00CJ5EO2E|Gorilla Super Glu...|\n",
            "|B001AHASM2|Unger Industrial ...|\n",
            "|B002YD7UB8|Pfister Langston ...|\n",
            "|B009VA1AAY|LEDJUMP SNOWFALL ...|\n",
            "|B004T3KG4Y|Baldwin Prestige ...|\n",
            "|B001AZYTP6|Speakman S-2252-P...|\n",
            "|B00B7DI4N4|Vktech® 10Pcs 30M...|\n",
            "|B0007XJRP4|Ultra Hardware 83...|\n",
            "|B00CXAEQKK|Home Décor Iron K...|\n",
            "|B001DECMSA|EZ Moves II Furni...|\n",
            "|B002MVY9PW|Tie Down Engineer...|\n",
            "+----------+--------------------+\n",
            "only showing top 20 rows\n",
            "\n"
          ],
          "name": "stdout"
        }
      ]
    },
    {
      "cell_type": "code",
      "metadata": {
        "id": "XfIdlLwjP3Np",
        "colab_type": "code",
        "outputId": "a7f851ee-eb10-478c-8c97-9b9e8bb830ab",
        "colab": {
          "base_uri": "https://localhost:8080/",
          "height": 468
        }
      },
      "source": [
        "customers_df = dropna_df.groupBy(\"customer_id\").agg({\"customer_id\":\"count\"}).withColumnRenamed(\"count(customer_id)\",\"customer_count\")\n",
        "customers_df.show()"
      ],
      "execution_count": 13,
      "outputs": [
        {
          "output_type": "stream",
          "text": [
            "+-----------+--------------+\n",
            "|customer_id|customer_count|\n",
            "+-----------+--------------+\n",
            "|   27367718|             3|\n",
            "|   23782815|             1|\n",
            "|   11555870|             2|\n",
            "|   41936145|             2|\n",
            "|   23541828|             2|\n",
            "|   53089613|             1|\n",
            "|   15032511|             1|\n",
            "|   10354035|             4|\n",
            "|   16909581|             1|\n",
            "|   27040634|             4|\n",
            "|   23732246|             4|\n",
            "|   35931570|             1|\n",
            "|   42538375|             1|\n",
            "|   34886680|             1|\n",
            "|   17900576|             1|\n",
            "|   10200670|             1|\n",
            "|   46588922|             2|\n",
            "|   40366377|             1|\n",
            "|   20096732|             5|\n",
            "|   17416090|             1|\n",
            "+-----------+--------------+\n",
            "only showing top 20 rows\n",
            "\n"
          ],
          "name": "stdout"
        }
      ]
    },
    {
      "cell_type": "code",
      "metadata": {
        "id": "zFf3OlWTfRWW",
        "colab_type": "code",
        "outputId": "e154dafe-4459-4493-f384-da6dd73242c5",
        "colab": {
          "base_uri": "https://localhost:8080/",
          "height": 468
        }
      },
      "source": [
        "vine_table_df = dropna_df.select(\"review_id\",\"star_rating\",\"helpful_votes\",\"total_votes\",\"vine\")\n",
        "vine_table_df = vine_table_df.distinct()\n",
        "vine_table_df.show()"
      ],
      "execution_count": 11,
      "outputs": [
        {
          "output_type": "stream",
          "text": [
            "+--------------+-----------+-------------+-----------+----+\n",
            "|     review_id|star_rating|helpful_votes|total_votes|vine|\n",
            "+--------------+-----------+-------------+-----------+----+\n",
            "|R101OHILN612XM|          5|            0|          0|   N|\n",
            "|R173K9BNHWJV15|          4|            0|          1|   N|\n",
            "|R17SCQ76TEJEVB|          4|            0|          0|   N|\n",
            "|R18VL0S120JE8B|          5|            0|          1|   N|\n",
            "|R1AR2F1YD6IH16|          5|            0|          0|   N|\n",
            "|R1BDE0RDHUR9TM|          5|            0|          0|   N|\n",
            "|R1BIE6H29JOXZL|          1|            0|          0|   N|\n",
            "|R1BMQELNOB6ONN|          5|            0|          0|   N|\n",
            "|R1CGJDMTON7NZ8|          5|            0|          0|   N|\n",
            "|R1CXXT29O4MUW6|          5|            0|          0|   N|\n",
            "|R1EMLRDGRRUELB|          5|            0|          0|   N|\n",
            "|R1LDUQAWH79GGO|          5|            0|          0|   N|\n",
            "|R1QTMMPXP2FMCY|          1|           12|         12|   N|\n",
            "|R1R5OTCZXP0RGW|          5|            0|          0|   N|\n",
            "|R1RWPWH3NDSRIT|          5|            0|          0|   N|\n",
            "|R1TK5P8YHQRST9|          5|            0|          0|   N|\n",
            "|R1TU0MJNXRKT44|          4|            0|          0|   N|\n",
            "|R1VG1GJDN0ZZO8|          5|            0|          0|   N|\n",
            "|R1VLJF62E2Y6N9|          5|            0|          0|   N|\n",
            "|R1XEXLKYNSEXS8|          5|            0|          0|   N|\n",
            "+--------------+-----------+-------------+-----------+----+\n",
            "only showing top 20 rows\n",
            "\n"
          ],
          "name": "stdout"
        }
      ]
    },
    {
      "cell_type": "code",
      "metadata": {
        "id": "aQwVLuDIIAnZ",
        "colab_type": "code",
        "colab": {}
      },
      "source": [
        "# Configure settings for RDS\n",
        "import os\n",
        "import pyspark\n",
        "mode = \"append\"\n",
        "jdbc_url=\"jdbc:postgresql://dataviz1.cjfblavlxb2k.us-east-2.rds.amazonaws.com:5432/postgres\"\n",
        "config = {\"user\":\"postgres1\",\n",
        "          \"password\": \"welcome123\",\n",
        "          \"driver\":\"org.postgresql.Driver\"}"
      ],
      "execution_count": 0,
      "outputs": []
    },
    {
      "cell_type": "code",
      "metadata": {
        "id": "SAADersV4Itp",
        "colab_type": "code",
        "outputId": "0f8f9251-5c85-4483-9f26-46688b6228d9",
        "colab": {
          "base_uri": "https://localhost:8080/",
          "height": 468
        }
      },
      "source": [
        "vine_df = vine_table_df.filter(vine_table_df.vine == 'Y')\n",
        "vine_df.show()"
      ],
      "execution_count": 16,
      "outputs": [
        {
          "output_type": "stream",
          "text": [
            "+--------------+-----------+-------------+-----------+----+\n",
            "|     review_id|star_rating|helpful_votes|total_votes|vine|\n",
            "+--------------+-----------+-------------+-----------+----+\n",
            "| R84KTVCF5UW21|          4|            0|          0|   Y|\n",
            "| R380OMSX9O0AF|          5|            0|          0|   Y|\n",
            "|R2ZA6RL7HWQ0Z8|          5|            3|          3|   Y|\n",
            "|R2QCMEEMVUMGNK|          3|            1|          1|   Y|\n",
            "|R2TR8A897ZRDOH|          4|            0|          1|   Y|\n",
            "|R183QLLWJVOG1Z|          5|            3|          3|   Y|\n",
            "|R18TTQ2XEMSPTV|          5|            0|          0|   Y|\n",
            "|R21GGVNKFKEPVW|          4|            0|          0|   Y|\n",
            "|R21PX3JTSDVBHK|          5|            0|          0|   Y|\n",
            "| RFJ8BSGG7APST|          5|            0|          0|   Y|\n",
            "|R1NSI2ARQNG3OE|          5|            1|          2|   Y|\n",
            "|R1NCVFQ82FG4OI|          2|            1|          1|   Y|\n",
            "|R2VKJYVKUNAB0Y|          4|            1|          3|   Y|\n",
            "| RIHDW8JO4AXEW|          5|            2|          3|   Y|\n",
            "|R1LWJ7U0I5PVA6|          3|            1|          2|   Y|\n",
            "|R3PY7HFQKB5QRK|          5|            0|          2|   Y|\n",
            "|R27BSGN11KGU0C|          4|            0|          0|   Y|\n",
            "|R2ZURDWDOG97SE|          5|            0|          0|   Y|\n",
            "|R2BYWS6A0W7MFH|          5|            1|          2|   Y|\n",
            "|R3N44GWAZ11OB1|          4|            0|          0|   Y|\n",
            "+--------------+-----------+-------------+-----------+----+\n",
            "only showing top 20 rows\n",
            "\n"
          ],
          "name": "stdout"
        }
      ]
    },
    {
      "cell_type": "code",
      "metadata": {
        "id": "Rs7WnZ0I5FVi",
        "colab_type": "code",
        "outputId": "b50e366d-11e7-467d-fa55-de3c4e63f433",
        "colab": {
          "base_uri": "https://localhost:8080/",
          "height": 468
        }
      },
      "source": [
        "no_vine_df = vine_table_df.filter(vine_table_df.vine == 'N')\n",
        "no_vine_df.show()"
      ],
      "execution_count": 17,
      "outputs": [
        {
          "output_type": "stream",
          "text": [
            "+--------------+-----------+-------------+-----------+----+\n",
            "|     review_id|star_rating|helpful_votes|total_votes|vine|\n",
            "+--------------+-----------+-------------+-----------+----+\n",
            "|R101OHILN612XM|          5|            0|          0|   N|\n",
            "|R173K9BNHWJV15|          4|            0|          1|   N|\n",
            "|R17SCQ76TEJEVB|          4|            0|          0|   N|\n",
            "|R18VL0S120JE8B|          5|            0|          1|   N|\n",
            "|R1AR2F1YD6IH16|          5|            0|          0|   N|\n",
            "|R1BDE0RDHUR9TM|          5|            0|          0|   N|\n",
            "|R1BIE6H29JOXZL|          1|            0|          0|   N|\n",
            "|R1BMQELNOB6ONN|          5|            0|          0|   N|\n",
            "|R1CGJDMTON7NZ8|          5|            0|          0|   N|\n",
            "|R1CXXT29O4MUW6|          5|            0|          0|   N|\n",
            "|R1EMLRDGRRUELB|          5|            0|          0|   N|\n",
            "|R1LDUQAWH79GGO|          5|            0|          0|   N|\n",
            "|R1QTMMPXP2FMCY|          1|           12|         12|   N|\n",
            "|R1R5OTCZXP0RGW|          5|            0|          0|   N|\n",
            "|R1RWPWH3NDSRIT|          5|            0|          0|   N|\n",
            "|R1TK5P8YHQRST9|          5|            0|          0|   N|\n",
            "|R1TU0MJNXRKT44|          4|            0|          0|   N|\n",
            "|R1VG1GJDN0ZZO8|          5|            0|          0|   N|\n",
            "|R1VLJF62E2Y6N9|          5|            0|          0|   N|\n",
            "|R1XEXLKYNSEXS8|          5|            0|          0|   N|\n",
            "+--------------+-----------+-------------+-----------+----+\n",
            "only showing top 20 rows\n",
            "\n"
          ],
          "name": "stdout"
        }
      ]
    },
    {
      "cell_type": "code",
      "metadata": {
        "id": "0xxMbfPU5UPP",
        "colab_type": "code",
        "outputId": "83f68b6c-4f71-401f-8565-6507732b5cfa",
        "colab": {
          "base_uri": "https://localhost:8080/",
          "height": 35
        }
      },
      "source": [
        "# Number of reviews for vine\n",
        "vine_df.count()"
      ],
      "execution_count": 18,
      "outputs": [
        {
          "output_type": "execute_result",
          "data": {
            "text/plain": [
              "10779"
            ]
          },
          "metadata": {
            "tags": []
          },
          "execution_count": 18
        }
      ]
    },
    {
      "cell_type": "code",
      "metadata": {
        "id": "mTNwjamM5fEZ",
        "colab_type": "code",
        "outputId": "4ae41621-811a-452d-e4d6-7de62148b4a4",
        "colab": {
          "base_uri": "https://localhost:8080/",
          "height": 35
        }
      },
      "source": [
        "# Number of reviews for non-vine\n",
        " no_vine_df.count()"
      ],
      "execution_count": 19,
      "outputs": [
        {
          "output_type": "execute_result",
          "data": {
            "text/plain": [
              "2623476"
            ]
          },
          "metadata": {
            "tags": []
          },
          "execution_count": 19
        }
      ]
    },
    {
      "cell_type": "code",
      "metadata": {
        "id": "tNwYxIfi50v8",
        "colab_type": "code",
        "outputId": "eaaff0ee-262b-4b72-c487-201e36a5b084",
        "colab": {
          "base_uri": "https://localhost:8080/",
          "height": 35
        }
      },
      "source": [
        "#Number of 5-star reviews for vine\n",
        "vine_df.filter(vine_df.star_rating == '5').count()"
      ],
      "execution_count": 20,
      "outputs": [
        {
          "output_type": "execute_result",
          "data": {
            "text/plain": [
              "5557"
            ]
          },
          "metadata": {
            "tags": []
          },
          "execution_count": 20
        }
      ]
    },
    {
      "cell_type": "code",
      "metadata": {
        "id": "DhwA9kq76Tvu",
        "colab_type": "code",
        "outputId": "84b8faa1-ee3a-471b-9d4f-dc4ab6440c59",
        "colab": {
          "base_uri": "https://localhost:8080/",
          "height": 35
        }
      },
      "source": [
        "#Number of 5-star reviews for vine\n",
        "no_vine_df.filter(no_vine_df.star_rating == '5').count()"
      ],
      "execution_count": 21,
      "outputs": [
        {
          "output_type": "execute_result",
          "data": {
            "text/plain": [
              "1650739"
            ]
          },
          "metadata": {
            "tags": []
          },
          "execution_count": 21
        }
      ]
    },
    {
      "cell_type": "code",
      "metadata": {
        "id": "YOMHLDHu6a33",
        "colab_type": "code",
        "outputId": "03916b1c-6d84-46fd-fa2e-cc83eae31530",
        "colab": {
          "base_uri": "https://localhost:8080/",
          "height": 121
        }
      },
      "source": [
        "#Average Rating for vine\n",
        "vine_df.agg({'star_rating':'avg'}).show()"
      ],
      "execution_count": 22,
      "outputs": [
        {
          "output_type": "stream",
          "text": [
            "+-----------------+\n",
            "| avg(star_rating)|\n",
            "+-----------------+\n",
            "|4.305965302903794|\n",
            "+-----------------+\n",
            "\n"
          ],
          "name": "stdout"
        }
      ]
    },
    {
      "cell_type": "code",
      "metadata": {
        "id": "A5yQ3qiQ6bMI",
        "colab_type": "code",
        "outputId": "89ec0ffc-db89-4f27-a234-3ee486a68b00",
        "colab": {
          "base_uri": "https://localhost:8080/",
          "height": 121
        }
      },
      "source": [
        "#Average Rating for no vine\n",
        "no_vine_df.agg({'star_rating':'avg'}).show()"
      ],
      "execution_count": 23,
      "outputs": [
        {
          "output_type": "stream",
          "text": [
            "+-----------------+\n",
            "| avg(star_rating)|\n",
            "+-----------------+\n",
            "|4.181878927041833|\n",
            "+-----------------+\n",
            "\n"
          ],
          "name": "stdout"
        }
      ]
    },
    {
      "cell_type": "code",
      "metadata": {
        "id": "6X4Sfd4S7Ud3",
        "colab_type": "code",
        "outputId": "74eda706-d54c-4ca6-b5c8-390145d72de9",
        "colab": {
          "base_uri": "https://localhost:8080/",
          "height": 121
        }
      },
      "source": [
        " #Number of helpful votes vine\n",
        " vine_df.agg({'helpful_votes':'sum'}).show()"
      ],
      "execution_count": 24,
      "outputs": [
        {
          "output_type": "stream",
          "text": [
            "+------------------+\n",
            "|sum(helpful_votes)|\n",
            "+------------------+\n",
            "|             28568|\n",
            "+------------------+\n",
            "\n"
          ],
          "name": "stdout"
        }
      ]
    },
    {
      "cell_type": "code",
      "metadata": {
        "id": "0fGyRvYk7UYg",
        "colab_type": "code",
        "outputId": "2a938fce-edfe-4742-cf95-8d5d2cfb0b94",
        "colab": {
          "base_uri": "https://localhost:8080/",
          "height": 121
        }
      },
      "source": [
        " #Number of helpful votes no vine\n",
        " no_vine_df.agg({'helpful_votes':'sum'}).show()"
      ],
      "execution_count": 25,
      "outputs": [
        {
          "output_type": "stream",
          "text": [
            "+------------------+\n",
            "|sum(helpful_votes)|\n",
            "+------------------+\n",
            "|           4402065|\n",
            "+------------------+\n",
            "\n"
          ],
          "name": "stdout"
        }
      ]
    },
    {
      "cell_type": "code",
      "metadata": {
        "id": "0my-r4XExDr1",
        "colab_type": "code",
        "colab": {}
      },
      "source": [
        "# Write DataFrame to products table in RDS\n",
        "products_df.write.jdbc(url=jdbc_url, table='products', mode=mode, properties=config)"
      ],
      "execution_count": 0,
      "outputs": []
    },
    {
      "cell_type": "code",
      "metadata": {
        "id": "CD5rJc-lxDYF",
        "colab_type": "code",
        "colab": {}
      },
      "source": [
        "# Write DataFrame to review_id_table in RDS\n",
        "review_id_table.write.jdbc(url=jdbc_url, table='review_id_table', mode=mode, properties=config)"
      ],
      "execution_count": 0,
      "outputs": []
    },
    {
      "cell_type": "code",
      "metadata": {
        "id": "xr-Z6Vy9xELj",
        "colab_type": "code",
        "colab": {}
      },
      "source": [
        "# Write DataFrame to customers table in RDS\n",
        "customers_df.write.jdbc(url=jdbc_url, table='customers', mode=mode, properties=config)"
      ],
      "execution_count": 0,
      "outputs": []
    },
    {
      "cell_type": "code",
      "metadata": {
        "id": "Qu8dviKGQQ2p",
        "colab_type": "code",
        "colab": {}
      },
      "source": [
        "# Write DataFrame to vine_table in RDS\n",
        "vine_table_df.write.jdbc(url=jdbc_url, table='vine_table', mode=mode, properties=config)"
      ],
      "execution_count": 0,
      "outputs": []
    }
  ]
}