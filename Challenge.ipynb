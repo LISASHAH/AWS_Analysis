{
  "nbformat": 4,
  "nbformat_minor": 0,
  "metadata": {
    "colab": {
      "name": "Challenge.ipynb",
      "provenance": [],
      "collapsed_sections": []
    },
    "kernelspec": {
      "name": "python3",
      "display_name": "Python 3"
    }
  },
  "cells": [
    {
      "cell_type": "code",
      "metadata": {
        "id": "rZPCNiOmDv7d",
        "colab_type": "code",
        "colab": {}
      },
      "source": [
        "# Install Java, Spark, and Findspark\n",
        "!apt-get install openjdk-8-jdk-headless -qq > /dev/null\n",
        "!wget -q http://www-us.apache.org/dist/spark/spark-2.4.5/spark-2.4.5-bin-hadoop2.7.tgz\n",
        "!tar xf spark-2.4.5-bin-hadoop2.7.tgz\n",
        "!pip install -q findspark\n",
        "\n",
        "# Set Environment Variables\n",
        "import os\n",
        "os.environ[\"JAVA_HOME\"] = \"/usr/lib/jvm/java-8-openjdk-amd64\"\n",
        "os.environ[\"SPARK_HOME\"] = \"/content/spark-2.4.5-bin-hadoop2.7\"\n",
        "\n",
        "# Start a SparkSession\n",
        "import findspark\n",
        "findspark.init()\n",
        "import pyspark"
      ],
      "execution_count": 0,
      "outputs": []
    },
    {
      "cell_type": "code",
      "metadata": {
        "id": "nX4b3Slh6nZQ",
        "colab_type": "code",
        "outputId": "91ef9899-e0b6-491a-f105-02d6ddec2f6b",
        "colab": {
          "base_uri": "https://localhost:8080/",
          "height": 540
        }
      },
      "source": [
        "!pip install -q findspark\n",
        "!pip install pyspark\n",
        "!wget https://jdbc.postgresql.org/download/postgresql-42.2.9.jar"
      ],
      "execution_count": 2,
      "outputs": [
        {
          "output_type": "stream",
          "text": [
            "Collecting pyspark\n",
            "\u001b[?25l  Downloading https://files.pythonhosted.org/packages/9a/5a/271c416c1c2185b6cb0151b29a91fff6fcaed80173c8584ff6d20e46b465/pyspark-2.4.5.tar.gz (217.8MB)\n",
            "\u001b[K     |████████████████████████████████| 217.8MB 61kB/s \n",
            "\u001b[?25hCollecting py4j==0.10.7\n",
            "\u001b[?25l  Downloading https://files.pythonhosted.org/packages/e3/53/c737818eb9a7dc32a7cd4f1396e787bd94200c3997c72c1dbe028587bd76/py4j-0.10.7-py2.py3-none-any.whl (197kB)\n",
            "\u001b[K     |████████████████████████████████| 204kB 52.6MB/s \n",
            "\u001b[?25hBuilding wheels for collected packages: pyspark\n",
            "  Building wheel for pyspark (setup.py) ... \u001b[?25l\u001b[?25hdone\n",
            "  Created wheel for pyspark: filename=pyspark-2.4.5-py2.py3-none-any.whl size=218257927 sha256=a3bb832035dd294d9c5f740be58ba17edd6299b0cd4b160a489a9d15c3a22e8b\n",
            "  Stored in directory: /root/.cache/pip/wheels/bf/db/04/61d66a5939364e756eb1c1be4ec5bdce6e04047fc7929a3c3c\n",
            "Successfully built pyspark\n",
            "Installing collected packages: py4j, pyspark\n",
            "Successfully installed py4j-0.10.7 pyspark-2.4.5\n"
          ],
          "name": "stdout"
        },
        {
          "output_type": "display_data",
          "data": {
            "application/vnd.colab-display-data+json": {
              "pip_warning": {
                "packages": [
                  "py4j",
                  "pyspark"
                ]
              }
            }
          },
          "metadata": {
            "tags": []
          }
        },
        {
          "output_type": "stream",
          "text": [
            "--2020-03-15 18:11:51--  https://jdbc.postgresql.org/download/postgresql-42.2.9.jar\n",
            "Resolving jdbc.postgresql.org (jdbc.postgresql.org)... 72.32.157.228, 2001:4800:3e1:1::228\n",
            "Connecting to jdbc.postgresql.org (jdbc.postgresql.org)|72.32.157.228|:443... connected.\n",
            "HTTP request sent, awaiting response... 200 OK\n",
            "Length: 914037 (893K) [application/java-archive]\n",
            "Saving to: ‘postgresql-42.2.9.jar’\n",
            "\n",
            "postgresql-42.2.9.j 100%[===================>] 892.61K  4.67MB/s    in 0.2s    \n",
            "\n",
            "2020-03-15 18:11:52 (4.67 MB/s) - ‘postgresql-42.2.9.jar’ saved [914037/914037]\n",
            "\n"
          ],
          "name": "stdout"
        }
      ]
    },
    {
      "cell_type": "code",
      "metadata": {
        "id": "RDQ_7nQ67FYp",
        "colab_type": "code",
        "colab": {}
      },
      "source": [
        "from pyspark import SparkFiles\n",
        "from pyspark.sql import SparkSession\n",
        "spark = SparkSession.builder.appName(\"ChallengeExample\").config(\"spark.driver.extraClassPath\",\"/content/postgresql-42.2.9.jar\").getOrCreate()"
      ],
      "execution_count": 0,
      "outputs": []
    },
    {
      "cell_type": "code",
      "metadata": {
        "id": "POZWu_qJ8uyk",
        "colab_type": "code",
        "colab": {}
      },
      "source": [
        "bucketUrl = \"https://s3.amazonaws.com/amazon-reviews-pds/tsv/amazon_reviews_us_Furniture_v1_00.tsv.gz\""
      ],
      "execution_count": 0,
      "outputs": []
    },
    {
      "cell_type": "code",
      "metadata": {
        "id": "4YCTq_zt8qXU",
        "colab_type": "code",
        "colab": {}
      },
      "source": [
        "spark.sparkContext.addFile(bucketUrl)"
      ],
      "execution_count": 0,
      "outputs": []
    },
    {
      "cell_type": "code",
      "metadata": {
        "id": "ARontYJe82j_",
        "colab_type": "code",
        "colab": {}
      },
      "source": [
        "#Create dataframe to read the file\n",
        "sparkDF = spark.read.csv(SparkFiles.get(\"amazon_reviews_us_Furniture_v1_00.tsv.gz\"),sep=\"\\t\", header=True, inferSchema=True)"
      ],
      "execution_count": 0,
      "outputs": []
    },
    {
      "cell_type": "code",
      "metadata": {
        "id": "dWuLZ4219jf-",
        "colab_type": "code",
        "outputId": "a6c4ad74-73f0-44e3-f4d2-18117aafa260",
        "colab": {
          "base_uri": "https://localhost:8080/",
          "height": 488
        }
      },
      "source": [
        "#Display the dataframe\n",
        "sparkDF.show()"
      ],
      "execution_count": 7,
      "outputs": [
        {
          "output_type": "stream",
          "text": [
            "+-----------+-----------+--------------+----------+--------------+--------------------+----------------+-----------+-------------+-----------+----+-----------------+--------------------+--------------------+-------------------+\n",
            "|marketplace|customer_id|     review_id|product_id|product_parent|       product_title|product_category|star_rating|helpful_votes|total_votes|vine|verified_purchase|     review_headline|         review_body|        review_date|\n",
            "+-----------+-----------+--------------+----------+--------------+--------------------+----------------+-----------+-------------+-----------+----+-----------------+--------------------+--------------------+-------------------+\n",
            "|         US|   24509695|R3VR960AHLFKDV|B004HB5E0E|     488241329|Shoal Creek Compu...|       Furniture|          4|            0|          0|   N|                Y|... desk is very ...|This desk is very...|2015-08-31 00:00:00|\n",
            "|         US|   34731776|R16LGVMFKIUT0G|B0042TNMMS|     205864445|Dorel Home Produc...|       Furniture|          5|            0|          0|   N|                Y|          Five Stars|          Great item|2015-08-31 00:00:00|\n",
            "|         US|    1272331|R1AIMEEPYHMOE4|B0030MPBZ4|     124663823|Bathroom Vanity T...|       Furniture|          5|            1|          1|   N|                Y|          Five Stars|Perfect fit for m...|2015-08-31 00:00:00|\n",
            "|         US|   45284262|R1892CCSZWZ9SR|B005G02ESA|     382367578|Sleep Master Ulti...|       Furniture|          3|            0|          0|   N|                Y|         Good enough|We use this on a ...|2015-08-31 00:00:00|\n",
            "|         US|   30003523|R285P679YWVKD1|B005JS8AUA|     309497463|1 1/4\" GashGuards...|       Furniture|          3|            0|          0|   N|                N|Gash Gards for da...|The product is fi...|2015-08-31 00:00:00|\n",
            "|         US|   18311821| RLB33HJBXHZHU|B00AVUQQGQ|     574537906|Serta Bonded Leat...|       Furniture|          5|            0|          0|   N|                Y|          Five Stars|Love this product...|2015-08-31 00:00:00|\n",
            "|         US|   42943632|R1VGTZ94DBAD6A|B00CFY20GQ|     407473883|Prepac Shoe Stora...|       Furniture|          5|            2|          2|   N|                Y|   I love this bench|I love this bench...|2015-08-31 00:00:00|\n",
            "|         US|   43157304|R168KF82ICSOHD|B00FKC48QA|     435120460|HomCom PU Leather...|       Furniture|          5|            0|          0|   N|                Y|Great storage cap...|Have had this for...|2015-08-31 00:00:00|\n",
            "|         US|   51918480|R20DIYIJ0OCMOG|B00N9IAL9K|     356495985|  Folding Step Stool|       Furniture|          5|            0|          0|   N|                Y|This is the best ...|This is the best ...|2015-08-31 00:00:00|\n",
            "|         US|   14522766| RD46RNVOHNZSC|B001T4XU1C|     243050228|Ace Bayou Adult V...|       Furniture|          5|            0|          0|   N|                Y|    great for price!|    my son loves it!|2015-08-31 00:00:00|\n",
            "|         US|   43054112|R2JDOCETTM3AXS|B002HRFLBC|      93574483|4D Concepts Audio...|       Furniture|          5|            0|          0|   N|                Y|          Five Stars|       Great product|2015-08-31 00:00:00|\n",
            "|         US|   26622950|R33YMW36IDZ6LE|B006MISZOC|     941823468|Zinus SC-SBBK-14N...|       Furniture|          5|            0|          0|   N|                Y|             perfect|bought with sleep...|2015-08-31 00:00:00|\n",
            "|         US|   17988940|R30ZGGUHZ04C1S|B008BMGABC|     460567746|Poundex Marble Di...|       Furniture|          5|            1|          1|   N|                Y|   Very satisfied!!!|Delivery was on t...|2015-08-31 00:00:00|\n",
            "|         US|   18444952| RS2EZU76IK2BT|B00CO2VH5Y|     829613894|Safavieh Lyndhurs...|       Furniture|          5|            0|          0|   N|                Y|soft and great fo...|Exactly as pictur...|2015-08-31 00:00:00|\n",
            "|         US|   16937084|R1GJC1BP028XO9|B00LI4RJQ0|     816478187|Sauder Boone Moun...|       Furniture|          5|            2|          3|   N|                Y|        Great table.|Beautiful table. ...|2015-08-31 00:00:00|\n",
            "|         US|   23665632|R2VKJPGXXEK5GP|B0046EC1D0|     358594389|Winsome Wood Brea...|       Furniture|          1|            0|          0|   N|                Y|Not what I expect...|I have cleaned up...|2015-08-31 00:00:00|\n",
            "|         US|    4110125|R17KS83G3KLT97|B00DQQPL36|     312571325|HODEDAH IMPORT Me...|       Furniture|          3|            0|          0|   N|                Y|         Three Stars|First one came in...|2015-08-31 00:00:00|\n",
            "|         US|     107621|R3PQL8SR4NEHWL|B003X7RWB2|     402665054|Flash Furniture H...|       Furniture|          4|            0|          0|   N|                Y|          Four Stars|Good deal to get ...|2015-08-31 00:00:00|\n",
            "|         US|    2415090|R2F5WW7WNO5RRG|B001TJYPJ8|     854989315|Sleep Revolution ...|       Furniture|          5|            0|          0|   N|                Y|          Five Stars|Comfortable and e...|2015-08-31 00:00:00|\n",
            "|         US|   48285966|R3UDJKVWQCFIC9|B000TMHX9A|     814079288|Flash Furniture V...|       Furniture|          5|            0|          0|   N|                Y|Very comfortable....|As advertised. Ve...|2015-08-31 00:00:00|\n",
            "+-----------+-----------+--------------+----------+--------------+--------------------+----------------+-----------+-------------+-----------+----+-----------------+--------------------+--------------------+-------------------+\n",
            "only showing top 20 rows\n",
            "\n"
          ],
          "name": "stdout"
        }
      ]
    },
    {
      "cell_type": "code",
      "metadata": {
        "id": "chqMZUU0zG3-",
        "colab_type": "code",
        "outputId": "4dab3007-52f1-4f27-caa8-6232a8cd914b",
        "colab": {
          "base_uri": "https://localhost:8080/",
          "height": 35
        }
      },
      "source": [
        "#Total records\n",
        "sparkDF.count()"
      ],
      "execution_count": 8,
      "outputs": [
        {
          "output_type": "execute_result",
          "data": {
            "text/plain": [
              "792113"
            ]
          },
          "metadata": {
            "tags": []
          },
          "execution_count": 8
        }
      ]
    },
    {
      "cell_type": "code",
      "metadata": {
        "id": "jHuw-2371fPk",
        "colab_type": "code",
        "outputId": "99399bda-a4c6-4eed-91a0-7b1feaf1bdcc",
        "colab": {
          "base_uri": "https://localhost:8080/",
          "height": 35
        }
      },
      "source": [
        "#remove duplicates\n",
        "removeDupliDf = sparkDF.distinct()\n",
        "removeDupliDf.count()"
      ],
      "execution_count": 9,
      "outputs": [
        {
          "output_type": "execute_result",
          "data": {
            "text/plain": [
              "792113"
            ]
          },
          "metadata": {
            "tags": []
          },
          "execution_count": 9
        }
      ]
    },
    {
      "cell_type": "code",
      "metadata": {
        "id": "YaKrGcW-K3cB",
        "colab_type": "code",
        "outputId": "68d23249-4eac-4495-d83d-b029e875c70c",
        "colab": {
          "base_uri": "https://localhost:8080/",
          "height": 488
        }
      },
      "source": [
        "#Drop null values\n",
        "dropna_df =  removeDupliDf.dropna()\n",
        "dropna_df.show()"
      ],
      "execution_count": 10,
      "outputs": [
        {
          "output_type": "stream",
          "text": [
            "+-----------+-----------+--------------+----------+--------------+--------------------+----------------+-----------+-------------+-----------+----+-----------------+--------------------+--------------------+-------------------+\n",
            "|marketplace|customer_id|     review_id|product_id|product_parent|       product_title|product_category|star_rating|helpful_votes|total_votes|vine|verified_purchase|     review_headline|         review_body|        review_date|\n",
            "+-----------+-----------+--------------+----------+--------------+--------------------+----------------+-----------+-------------+-----------+----+-----------------+--------------------+--------------------+-------------------+\n",
            "|         US|   50599196|R100LZ3TZU4U3L|B009IMTNVS|     393895121|Flash Furniture R...|       Furniture|          4|            0|          0|   N|                Y|        Good quality|However be aware ...|2014-05-26 00:00:00|\n",
            "|         US|   37762171|R101B5A6FRZPIL|B000S0BUO2|     643258319|    Cane Linen Tower|       Furniture|          4|            0|          0|   N|                Y|Great for small b...|A little on the c...|2011-02-07 00:00:00|\n",
            "|         US|    2212059|R1020IPBEKMBRX|B00WI4N7JM|     836578472|Ergonomic Health ...|       Furniture|          2|            0|          2|   N|                Y|        disappointed|Sorry I wasted my...|2015-06-06 00:00:00|\n",
            "|         US|    4821091|R105G25LM36UI9|B00J2AGFXU|     144950265|Marshmallow Furni...|       Furniture|          5|            0|          1|   N|                Y|Both granddaughte...|Should have bough...|2014-12-17 00:00:00|\n",
            "|         US|   41725802|R106I4VCR71RXD|B005KUVZEA|      91231959|Ameriwood Home Ca...|       Furniture|          2|           13|         16|   N|                N|The two side shel...|The two side shel...|2014-11-04 00:00:00|\n",
            "|         US|   12408717|R107MEF3XZ5L1V|B002KMJXWM|     902038234|Skyline Furniture...|       Furniture|          5|            0|          0|   N|                Y|I Love this bed!!...|I am overjoyed wi...|2013-01-31 00:00:00|\n",
            "|         US|   33887092|R108OZKEFF5KEC|B0043JJWYY|     330175669|Genuine Sheepskin...|       Furniture|          1|            2|          3|   N|                Y|Not as represente...|I bought 2 rugs a...|2014-06-12 00:00:00|\n",
            "|         US|   11213652|R109LI12ETJR16|B0046EC19Y|     688604815|Winsome Wood Alde...|       Furniture|          3|            0|          0|   N|                Y|but not terrible ...|A couple of blemi...|2015-06-03 00:00:00|\n",
            "|         US|   42492472|R10ARAZCU8TQJQ|B00OZVMER2|     201526669|3pc Modern Revers...|       Furniture|          2|            2|          3|   N|                Y|        ehhh just ok|Looks super cute ...|2015-07-21 00:00:00|\n",
            "|         US|   48258419|R10BM8IU7SSR6Y|B000UGPWLG|     574883946|Scroll Iron Smoke...|       Furniture|          5|            1|          1|   N|                Y|Functional with g...|I purchased this ...|2012-01-19 00:00:00|\n",
            "|         US|   36374721|R10H6CT0P5G256|B002EAZZVS|     774882107|Southern Enterpri...|       Furniture|          5|            4|          5|   N|                Y|Just what I was l...|I've been looking...|2012-07-04 00:00:00|\n",
            "|         US|   10075211|R10HBVBB3LJLQZ|B002YD8DQY|     141071625|Convenience Conce...|       Furniture|          5|            0|          0|   N|                Y|perfect for a 32\"...|This is a basic T...|2015-01-28 00:00:00|\n",
            "|         US|   12959608|R10JIN2EKNG8DP|B002EYDELC|     565299633|Chandra INDIA IND...|       Furniture|          4|            0|          0|   N|                N|          Four Stars|       Good quality.|2014-07-26 00:00:00|\n",
            "|         US|   13154932|R10K11RIGUF587|B004GBB7GA|     863606023|Country Series Co...|       Furniture|          5|            0|          0|   N|                Y|       Great Stools!|Easy to assemble ...|2014-12-10 00:00:00|\n",
            "|         US|   10852332|R10KIBJ9VRF10F|B000NPTUGM|     188170615|Winsome Wood End ...|       Furniture|          4|            0|          0|   N|                Y|It is a good nigh...|It is a good nigh...|2015-04-15 00:00:00|\n",
            "|         US|   19459826|R10KJRMDRC6E47|B00B0Q51L6|     689131702|26MediumCallaLily...|       Furniture|          2|            0|          0|   N|                Y|          Not for me|I brought these t...|2013-10-17 00:00:00|\n",
            "|         US|   27406689|R10KYK5L40LHYD|B00350VH86|     181005796|Milliken Syracuse...|       Furniture|          4|            0|          0|   N|                Y|    Mancave addition|Nice product.. co...|2012-12-27 00:00:00|\n",
            "|         US|   43548467|R10LA6XWVRNWXD|B00C67308Y|     584910721|InnerSpace Dalton...|       Furniture|          3|            2|          2|   N|                Y|Terrible fit and ...|Terrible fit and ...|2015-05-29 00:00:00|\n",
            "|         US|    5396995|R10MELZL2PREP8|B0046EC1D0|     358594389|Winsome Wood Brea...|       Furniture|          5|            0|          0|   N|                Y|                TRAY|I use thia tray t...|2013-05-03 00:00:00|\n",
            "|         US|   42120716|R10S5XQN0N2LNO|B0055QM9YY|     642648593|Cigar Caddy Humid...|       Furniture|          4|            0|          0|   N|                Y|             Good...|Is a very good so...|2012-11-20 00:00:00|\n",
            "+-----------+-----------+--------------+----------+--------------+--------------------+----------------+-----------+-------------+-----------+----+-----------------+--------------------+--------------------+-------------------+\n",
            "only showing top 20 rows\n",
            "\n"
          ],
          "name": "stdout"
        }
      ]
    },
    {
      "cell_type": "code",
      "metadata": {
        "id": "O-j6CZ82PKNW",
        "colab_type": "code",
        "outputId": "3cbb7c7f-6d1f-43a4-d6c4-c7f9ddbe2744",
        "colab": {
          "base_uri": "https://localhost:8080/",
          "height": 468
        }
      },
      "source": [
        "#Review table dataframe\n",
        "review_id_table  = dropna_df.select(\"review_id\",\"customer_id\",\"product_id\",\"product_parent\",\"review_date\")\n",
        "review_id_table = review_id_table.distinct()\n",
        "review_id_table.show()"
      ],
      "execution_count": 11,
      "outputs": [
        {
          "output_type": "stream",
          "text": [
            "+--------------+-----------+----------+--------------+-------------------+\n",
            "|     review_id|customer_id|product_id|product_parent|        review_date|\n",
            "+--------------+-----------+----------+--------------+-------------------+\n",
            "|R1HNNMB9NWPXOM|   30934546|B007B6ZX2Q|     902872420|2014-11-20 00:00:00|\n",
            "|R1JFUT1F80RYKM|    1379589|B00342VCGM|     148029143|2015-04-06 00:00:00|\n",
            "|R1M6H3WH1Q90VM|   15419523|B007YLQQGA|     680101871|2015-07-24 00:00:00|\n",
            "|R25FC2460H0QAC|   18914451|B0002KNM4E|     964386680|2014-07-23 00:00:00|\n",
            "|R2AU8F8F7XL0HO|   17868270|B005A4OP8Y|     999119538|2013-02-15 00:00:00|\n",
            "|R2B7N8C09HQ87N|    4454066|B00JQLHURK|     319180460|2014-12-16 00:00:00|\n",
            "|R2MWPS724A7VG0|   14317650|B001M0NDM4|     330848986|2011-08-10 00:00:00|\n",
            "|R2OQOJKCP3DWOU|   14658280|B002T2LI8U|     768721775|2014-10-05 00:00:00|\n",
            "|R30ISW43437Q41|   19011880|B00A811OLU|     124356391|2015-08-18 00:00:00|\n",
            "|R32CZOACLSM8JZ|   12573770|B003R5JFY2|     664291029|2012-11-24 00:00:00|\n",
            "|R3JZ3F9UXGPHTZ|   50392798|B000Y1W8GE|     788639046|2013-12-18 00:00:00|\n",
            "|R3LEYUO3DXFHT7|   27684556|B000FHDHIK|     697157636|2015-01-12 00:00:00|\n",
            "|R3RFE34XEYRC1Y|   38266657|B0007IIJMG|     221652760|2014-10-09 00:00:00|\n",
            "|R3VW2MCCSVTS5R|   16190661|B004J8PAPE|     158628150|2013-08-15 00:00:00|\n",
            "| RN6F4132N51MY|   10087853|B005FM2PB0|     250679802|2014-12-26 00:00:00|\n",
            "|R15LOR3EWZ6TFX|   16408154|B008OS1XGA|     991978353|2014-12-08 00:00:00|\n",
            "|R19LIQ1DFZAYOH|   46057828|B005H7Z0G0|     977792702|2013-10-09 00:00:00|\n",
            "|R1FPUX29XEIN53|   23588697|B00EL88CHU|       5430743|2014-09-18 00:00:00|\n",
            "|R1LUW9Z18SIUCJ|   12289364|B0017RCKKS|     867410454|2013-02-16 00:00:00|\n",
            "|R1UZOUUZGQSIFW|   16090993|B0058HYB8W|     721006824|2013-01-20 00:00:00|\n",
            "+--------------+-----------+----------+--------------+-------------------+\n",
            "only showing top 20 rows\n",
            "\n"
          ],
          "name": "stdout"
        }
      ]
    },
    {
      "cell_type": "code",
      "metadata": {
        "id": "LcTJ9of9PeY0",
        "colab_type": "code",
        "outputId": "a91ed0e0-2a8b-422c-d2e7-4d497c545372",
        "colab": {
          "base_uri": "https://localhost:8080/",
          "height": 468
        }
      },
      "source": [
        "#Products dataframe\n",
        "products_df = dropna_df.select(\"product_id\",\"product_title\")\n",
        "products_df=products_df.distinct()\n",
        "products_df.show()"
      ],
      "execution_count": 12,
      "outputs": [
        {
          "output_type": "stream",
          "text": [
            "+----------+--------------------+\n",
            "|product_id|       product_title|\n",
            "+----------+--------------------+\n",
            "|B005FP3TDA|Flash Furniture L...|\n",
            "|B001N44DN2|Soft Suede Luxe B...|\n",
            "|B00OJMMA5S|LavoHome 330lbs U...|\n",
            "|B0074FGY9A|Safavieh Courtyar...|\n",
            "|B0047G0BPC|White Elegant Cot...|\n",
            "|B0058LI35U|Harry Potter and ...|\n",
            "|B000BP4OKQ|Coaster Home Furn...|\n",
            "|B00FM0OV1W|Sauder Edge Water...|\n",
            "|B001U0UOO6|Furniture Repair Set|\n",
            "|B009QH31XG|Winsome Obsidian ...|\n",
            "|B007BCI9US|Reflections Three...|\n",
            "|B001BX1JSC|Flash Furniture V...|\n",
            "|B00BIP3ZDA|Black Desk & Book...|\n",
            "|B00CX56PUY|Safavieh American...|\n",
            "|B000O31MHS|The Furniture Sou...|\n",
            "|B005UPGTM8|South Shore Agora...|\n",
            "|B007OWPBGU|Frenchi Home Furn...|\n",
            "|B009IWJU66|Big Joe Fuf 6' Me...|\n",
            "|B00M49MHH4|Metro Shop Upton ...|\n",
            "|B0014COQQM|Grip-It Non-Slip ...|\n",
            "+----------+--------------------+\n",
            "only showing top 20 rows\n",
            "\n"
          ],
          "name": "stdout"
        }
      ]
    },
    {
      "cell_type": "code",
      "metadata": {
        "id": "XfIdlLwjP3Np",
        "colab_type": "code",
        "outputId": "c2d272d8-855d-4812-dc36-f1f59adde691",
        "colab": {
          "base_uri": "https://localhost:8080/",
          "height": 468
        }
      },
      "source": [
        "#Customer Dataframe\n",
        "customers_df = dropna_df.groupBy(\"customer_id\").agg({\"customer_id\":\"count\"}).withColumnRenamed(\"count(customer_id)\",\"customer_count\")\n",
        "customers_df.show()\n",
        "#Group by function does not work"
      ],
      "execution_count": 13,
      "outputs": [
        {
          "output_type": "stream",
          "text": [
            "+-----------+--------------+\n",
            "|customer_id|customer_count|\n",
            "+-----------+--------------+\n",
            "|   16701883|             1|\n",
            "|   21552484|             1|\n",
            "|   39013924|             1|\n",
            "|   10929119|             2|\n",
            "|   15411200|             1|\n",
            "|   19671756|             4|\n",
            "|   15731761|             1|\n",
            "|   12152570|             5|\n",
            "|   32937025|             1|\n",
            "|   11916151|             1|\n",
            "|   15887642|             2|\n",
            "|   17480020|             2|\n",
            "|   13646959|             1|\n",
            "|   15611613|             1|\n",
            "|   19819565|             2|\n",
            "|   15056685|             1|\n",
            "|   26656231|             1|\n",
            "|   21799522|             2|\n",
            "|   42749153|             2|\n",
            "|   28107028|             1|\n",
            "+-----------+--------------+\n",
            "only showing top 20 rows\n",
            "\n"
          ],
          "name": "stdout"
        }
      ]
    },
    {
      "cell_type": "code",
      "metadata": {
        "id": "zFf3OlWTfRWW",
        "colab_type": "code",
        "outputId": "cc148b97-872c-46a0-f79b-0289f3697b04",
        "colab": {
          "base_uri": "https://localhost:8080/",
          "height": 468
        }
      },
      "source": [
        "#Vine table dataframe\n",
        "vine_table_df = dropna_df.select(\"review_id\",\"star_rating\",\"helpful_votes\",\"total_votes\",\"vine\")\n",
        "vine_table_df = vine_table_df.distinct()\n",
        "vine_table_df.show()"
      ],
      "execution_count": 14,
      "outputs": [
        {
          "output_type": "stream",
          "text": [
            "+--------------+-----------+-------------+-----------+----+\n",
            "|     review_id|star_rating|helpful_votes|total_votes|vine|\n",
            "+--------------+-----------+-------------+-----------+----+\n",
            "|R18BJ01PGD2QZY|          5|            0|          0|   N|\n",
            "|R1B2Z401UWPZ0Z|          3|           13|         21|   N|\n",
            "|R1EGCT74J0N7XL|          4|            6|          6|   N|\n",
            "|R1GPRQIRT5VRY4|          5|           10|         12|   N|\n",
            "|R1NTVVMDL4N79T|          5|            4|          4|   N|\n",
            "|R1NXU9U2F5CI4L|          5|            0|          0|   N|\n",
            "|R1QYL41THXK05D|          3|           11|         11|   N|\n",
            "|R1U4YEFJ35KNQD|          4|            1|          1|   N|\n",
            "|R260MEF6OSI5MY|          4|            0|          0|   N|\n",
            "|R2ESDHZTHNIJK1|          4|            2|          4|   N|\n",
            "|R2LBNSR5KO5ZV5|          5|            1|          1|   N|\n",
            "|R2R1DZH9T7RK7Q|          5|            0|          1|   N|\n",
            "|R2ROVCLSTXOZWI|          1|            1|          3|   N|\n",
            "|R2YTZ5BAE2CNW9|          5|            1|          1|   N|\n",
            "|R30RZ73ZC22ZZS|          1|            1|          1|   N|\n",
            "|R38KJE1LN2BEZ7|          5|            1|          1|   N|\n",
            "|R3DH178VRHDSWS|          4|            6|          6|   N|\n",
            "|R3FCAN6Z9EEAML|          5|            0|          1|   N|\n",
            "|R3FXU0DLO4YFYC|          3|            1|          1|   N|\n",
            "|R3POTV1PIZKS30|          5|            0|          0|   N|\n",
            "+--------------+-----------+-------------+-----------+----+\n",
            "only showing top 20 rows\n",
            "\n"
          ],
          "name": "stdout"
        }
      ]
    },
    {
      "cell_type": "code",
      "metadata": {
        "id": "aQwVLuDIIAnZ",
        "colab_type": "code",
        "colab": {}
      },
      "source": [
        "import os\n",
        "import pyspark\n",
        "mode = \"append\"\n",
        "jdbc_url=\"jdbc:postgresql://dataviz.cjfblavlxb2k.us-east-2.rds.amazonaws.com:5432/postgres\"\n",
        "config = {\"user\":\"postgres\",\n",
        "          \"password\": \"welcome123\",\n",
        "          \"driver\":\"org.postgresql.Driver\"}"
      ],
      "execution_count": 0,
      "outputs": []
    },
    {
      "cell_type": "code",
      "metadata": {
        "id": "SAADersV4Itp",
        "colab_type": "code",
        "outputId": "1f7e1535-ce2e-4b3d-b34d-51482a0ec5b2",
        "colab": {
          "base_uri": "https://localhost:8080/",
          "height": 468
        }
      },
      "source": [
        "#Data Analysis - I have done this in SQL file. This is for additional work\n",
        "vine_df = vine_table_df.filter(vine_table_df.vine == 'Y')\n",
        "vine_df.show()"
      ],
      "execution_count": 16,
      "outputs": [
        {
          "output_type": "stream",
          "text": [
            "+--------------+-----------+-------------+-----------+----+\n",
            "|     review_id|star_rating|helpful_votes|total_votes|vine|\n",
            "+--------------+-----------+-------------+-----------+----+\n",
            "|R2IPEDLBI6W4YV|          5|            8|          8|   Y|\n",
            "|R22OY342SCQ3L1|          4|            3|          4|   Y|\n",
            "|R3M8HWERPAC57X|          2|            0|          0|   Y|\n",
            "|R2710XN7IZAZJH|          4|            0|          0|   Y|\n",
            "| RA8WXGT4DXU1S|          2|           11|         14|   Y|\n",
            "|R1O0QTCE1TDU1L|          4|            6|          8|   Y|\n",
            "|R2HQ6ERTBWD7DQ|          5|            0|          0|   Y|\n",
            "|R2F67B5ZPRAGEP|          5|            0|          1|   Y|\n",
            "|R3F51DEVSK4KR1|          4|            0|          0|   Y|\n",
            "|R2HWQHUR578IVL|          5|            0|          0|   Y|\n",
            "| ROELCBIGX212Z|          5|            2|          4|   Y|\n",
            "|R3H93HZMAVXOUI|          3|            0|          0|   Y|\n",
            "|R3JNZPIO1HGTBF|          5|            1|          2|   Y|\n",
            "|R1Y1DPF7VUT8IA|          5|            0|          0|   Y|\n",
            "|R12FQSPLALA3VJ|          4|            0|          0|   Y|\n",
            "|R3HOEZU8EITF62|          4|            0|          0|   Y|\n",
            "|R1EQAWQ2TQG3D2|          3|            1|          2|   Y|\n",
            "|  REK4A933FU7C|          4|            3|          3|   Y|\n",
            "|R1S64J1HDCFWY8|          5|            0|          1|   Y|\n",
            "|R3FMTXNON4XWR5|          5|            5|          7|   Y|\n",
            "+--------------+-----------+-------------+-----------+----+\n",
            "only showing top 20 rows\n",
            "\n"
          ],
          "name": "stdout"
        }
      ]
    },
    {
      "cell_type": "code",
      "metadata": {
        "id": "Rs7WnZ0I5FVi",
        "colab_type": "code",
        "outputId": "34f2ab75-f004-4793-8e84-64da02873aaf",
        "colab": {
          "base_uri": "https://localhost:8080/",
          "height": 468
        }
      },
      "source": [
        "no_vine_df = vine_table_df.filter(vine_table_df.vine == 'N')\n",
        "no_vine_df.show()"
      ],
      "execution_count": 17,
      "outputs": [
        {
          "output_type": "stream",
          "text": [
            "+--------------+-----------+-------------+-----------+----+\n",
            "|     review_id|star_rating|helpful_votes|total_votes|vine|\n",
            "+--------------+-----------+-------------+-----------+----+\n",
            "|R18BJ01PGD2QZY|          5|            0|          0|   N|\n",
            "|R1B2Z401UWPZ0Z|          3|           13|         21|   N|\n",
            "|R1EGCT74J0N7XL|          4|            6|          6|   N|\n",
            "|R1GPRQIRT5VRY4|          5|           10|         12|   N|\n",
            "|R1NTVVMDL4N79T|          5|            4|          4|   N|\n",
            "|R1NXU9U2F5CI4L|          5|            0|          0|   N|\n",
            "|R1QYL41THXK05D|          3|           11|         11|   N|\n",
            "|R1U4YEFJ35KNQD|          4|            1|          1|   N|\n",
            "|R260MEF6OSI5MY|          4|            0|          0|   N|\n",
            "|R2ESDHZTHNIJK1|          4|            2|          4|   N|\n",
            "|R2LBNSR5KO5ZV5|          5|            1|          1|   N|\n",
            "|R2R1DZH9T7RK7Q|          5|            0|          1|   N|\n",
            "|R2ROVCLSTXOZWI|          1|            1|          3|   N|\n",
            "|R2YTZ5BAE2CNW9|          5|            1|          1|   N|\n",
            "|R30RZ73ZC22ZZS|          1|            1|          1|   N|\n",
            "|R38KJE1LN2BEZ7|          5|            1|          1|   N|\n",
            "|R3DH178VRHDSWS|          4|            6|          6|   N|\n",
            "|R3FCAN6Z9EEAML|          5|            0|          1|   N|\n",
            "|R3FXU0DLO4YFYC|          3|            1|          1|   N|\n",
            "|R3POTV1PIZKS30|          5|            0|          0|   N|\n",
            "+--------------+-----------+-------------+-----------+----+\n",
            "only showing top 20 rows\n",
            "\n"
          ],
          "name": "stdout"
        }
      ]
    },
    {
      "cell_type": "code",
      "metadata": {
        "id": "0xxMbfPU5UPP",
        "colab_type": "code",
        "outputId": "566a1788-51c8-4c59-8e7f-c4e6902561e5",
        "colab": {
          "base_uri": "https://localhost:8080/",
          "height": 35
        }
      },
      "source": [
        "# Number of reviews for vine\n",
        "vine_df.count()"
      ],
      "execution_count": 18,
      "outputs": [
        {
          "output_type": "execute_result",
          "data": {
            "text/plain": [
              "2775"
            ]
          },
          "metadata": {
            "tags": []
          },
          "execution_count": 18
        }
      ]
    },
    {
      "cell_type": "code",
      "metadata": {
        "id": "mTNwjamM5fEZ",
        "colab_type": "code",
        "outputId": "2de0a3d2-5db7-4b8f-8fad-60a77dec6b10",
        "colab": {
          "base_uri": "https://localhost:8080/",
          "height": 35
        }
      },
      "source": [
        "# Number of reviews for non-vine\n",
        " no_vine_df.count()"
      ],
      "execution_count": 19,
      "outputs": [
        {
          "output_type": "execute_result",
          "data": {
            "text/plain": [
              "789196"
            ]
          },
          "metadata": {
            "tags": []
          },
          "execution_count": 19
        }
      ]
    },
    {
      "cell_type": "code",
      "metadata": {
        "id": "tNwYxIfi50v8",
        "colab_type": "code",
        "outputId": "cde5b7ce-7dc2-4b27-f12c-1020152bdc1c",
        "colab": {
          "base_uri": "https://localhost:8080/",
          "height": 35
        }
      },
      "source": [
        "#Number of 5-star reviews for vine\n",
        "vine_df.filter(vine_df.star_rating == '5').count()"
      ],
      "execution_count": 20,
      "outputs": [
        {
          "output_type": "execute_result",
          "data": {
            "text/plain": [
              "1356"
            ]
          },
          "metadata": {
            "tags": []
          },
          "execution_count": 20
        }
      ]
    },
    {
      "cell_type": "code",
      "metadata": {
        "id": "DhwA9kq76Tvu",
        "colab_type": "code",
        "outputId": "aa99078f-eca5-4eb1-c867-37ddf3afd278",
        "colab": {
          "base_uri": "https://localhost:8080/",
          "height": 35
        }
      },
      "source": [
        "#Number of 5-star reviews for vine\n",
        "no_vine_df.filter(no_vine_df.star_rating == '5').count()"
      ],
      "execution_count": 21,
      "outputs": [
        {
          "output_type": "execute_result",
          "data": {
            "text/plain": [
              "446274"
            ]
          },
          "metadata": {
            "tags": []
          },
          "execution_count": 21
        }
      ]
    },
    {
      "cell_type": "code",
      "metadata": {
        "id": "YOMHLDHu6a33",
        "colab_type": "code",
        "outputId": "777cf0e6-759c-4958-cffb-96735218648f",
        "colab": {
          "base_uri": "https://localhost:8080/",
          "height": 121
        }
      },
      "source": [
        "#Average Rating for vine\n",
        "vine_df.agg({'star_rating':'avg'}).show()"
      ],
      "execution_count": 22,
      "outputs": [
        {
          "output_type": "stream",
          "text": [
            "+----------------+\n",
            "|avg(star_rating)|\n",
            "+----------------+\n",
            "|4.25045045045045|\n",
            "+----------------+\n",
            "\n"
          ],
          "name": "stdout"
        }
      ]
    },
    {
      "cell_type": "code",
      "metadata": {
        "id": "A5yQ3qiQ6bMI",
        "colab_type": "code",
        "outputId": "3df9bd20-158d-414c-e5c0-368c09546c46",
        "colab": {
          "base_uri": "https://localhost:8080/",
          "height": 121
        }
      },
      "source": [
        "#Average Rating for no vine\n",
        "no_vine_df.agg({'star_rating':'avg'}).show()"
      ],
      "execution_count": 23,
      "outputs": [
        {
          "output_type": "stream",
          "text": [
            "+----------------+\n",
            "|avg(star_rating)|\n",
            "+----------------+\n",
            "|4.08337725989488|\n",
            "+----------------+\n",
            "\n"
          ],
          "name": "stdout"
        }
      ]
    },
    {
      "cell_type": "code",
      "metadata": {
        "id": "6X4Sfd4S7Ud3",
        "colab_type": "code",
        "outputId": "d066008e-10b9-498f-940a-82697f4ef3c8",
        "colab": {
          "base_uri": "https://localhost:8080/",
          "height": 121
        }
      },
      "source": [
        " #Number of helpful votes vine\n",
        " vine_df.agg({'helpful_votes':'sum'}).show()"
      ],
      "execution_count": 24,
      "outputs": [
        {
          "output_type": "stream",
          "text": [
            "+------------------+\n",
            "|sum(helpful_votes)|\n",
            "+------------------+\n",
            "|             15079|\n",
            "+------------------+\n",
            "\n"
          ],
          "name": "stdout"
        }
      ]
    },
    {
      "cell_type": "code",
      "metadata": {
        "id": "0fGyRvYk7UYg",
        "colab_type": "code",
        "outputId": "d8d4f4b1-466b-40bd-ce4f-214addc2f0b8",
        "colab": {
          "base_uri": "https://localhost:8080/",
          "height": 121
        }
      },
      "source": [
        " #Number of helpful votes no vine\n",
        " no_vine_df.agg({'helpful_votes':'sum'}).show()"
      ],
      "execution_count": 25,
      "outputs": [
        {
          "output_type": "stream",
          "text": [
            "+------------------+\n",
            "|sum(helpful_votes)|\n",
            "+------------------+\n",
            "|           1884672|\n",
            "+------------------+\n",
            "\n"
          ],
          "name": "stdout"
        }
      ]
    },
    {
      "cell_type": "code",
      "metadata": {
        "id": "XBG6Rok9ohsT",
        "colab_type": "code",
        "colab": {}
      },
      "source": [
        "# Write DataFrame to products table in RDS\n",
        "products_df.write.jdbc(url=jdbc_url, table='products', mode=mode, properties=config)"
      ],
      "execution_count": 0,
      "outputs": []
    },
    {
      "cell_type": "code",
      "metadata": {
        "id": "CD5rJc-lxDYF",
        "colab_type": "code",
        "colab": {}
      },
      "source": [
        "# Write DataFrame to review_id_table in RDS\n",
        "review_id_table.write.jdbc(url=jdbc_url, table='review_id_table', mode=mode, properties=config)"
      ],
      "execution_count": 0,
      "outputs": []
    },
    {
      "cell_type": "code",
      "metadata": {
        "id": "xr-Z6Vy9xELj",
        "colab_type": "code",
        "colab": {}
      },
      "source": [
        "# Write DataFrame to customers table in RDS\n",
        "customers_df.write.jdbc(url=jdbc_url, table='customers', mode=mode, properties=config)"
      ],
      "execution_count": 0,
      "outputs": []
    },
    {
      "cell_type": "code",
      "metadata": {
        "id": "Qu8dviKGQQ2p",
        "colab_type": "code",
        "colab": {}
      },
      "source": [
        "# Write DataFrame to vine_table in RDS\n",
        "vine_table_df.write.jdbc(url=jdbc_url, table='vine_table', mode=mode, properties=config)"
      ],
      "execution_count": 0,
      "outputs": []
    }
  ]
}